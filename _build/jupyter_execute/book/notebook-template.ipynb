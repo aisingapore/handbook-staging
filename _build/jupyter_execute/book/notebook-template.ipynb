{
 "cells": [
  {
   "cell_type": "markdown",
   "id": "a468bcf0",
   "metadata": {},
   "source": [
    "[comment]: <> (Use question as section title)\n",
    "\n",
    "# How should I write a section using Jupyter notebooks?\n",
    "\n",
    "\n",
    "Contributors: Ryzal Kamis, Assistant Head (MLOps) & Kenny WJ Chua, Senior AI Engineer\n",
    "\n",
    "---\n",
    "\n",
    "\n",
    "This notebook is to demonstrate how sections can be written in using Jupytext's pairing function. Alternatively, sections can be written in [Markdown](../book/markdown-template.md).\n",
    "\n",
    "\n",
    "## Content\n",
    "\n",
    "\n",
    "We want to focus on content that can stand the test of time. Examples include process frameworks, general principles, strategies and design patterns.\n",
    "\n",
    "As far as possible, content should stay agnostic with respect to specific tools,algorithms or techniques, as these tend to get update frequently. However, we can make minimal use of *examples* from a specific tool/algorithm/technique to *illustrate* a more general, agnostic point.\n",
    "\n",
    "\n",
    "## Language and style\n",
    "\n",
    "\n",
    "We want to write contributions in continuous prose. Use bulleted points sparingly.\n",
    "\n",
    "Singular first person pronouns should be used; while readers can be addressed in the second person. Example: **I** would like to seek **your** cooperation in standardising the use of pronouns in this handbook.\n",
    "\n",
    "Contractions should be avoided (e.g., \"let us\" instead of \"let's\").\n",
    "\n",
    "Avoid AISG-specific terminology, e.g., \"100E\", \"AI Apprentices\". Use neutral alternatives such as \"AI/ML project\" and \"junior developers\", respectively, that a general, external audience can better understand.\n",
    "\n",
    "Contributions shall be written in Singaporean Standard English, which uses British spelling.\n",
    "\n",
    "\n",
    "## Code blocks, figures and tables\n",
    "\n",
    "\n",
    "Code blocks, figures and tables do not need to be numbered or captioned. These appear after first mention in main text. For example, refer to the code and plot below:\n",
    "\n",
    "```python\n",
    "from matplotlib import rcParams, cycler\n",
    "import matplotlib.pyplot as plt\n",
    "import numpy as np\n",
    "plt.ion()\n",
    "\n",
    "# Fixing random state for reproducibility\n",
    "np.random.seed(19680801)\n",
    "\n",
    "N = 10\n",
    "data = [np.logspace(0, 1, 100) + np.random.randn(100) + ii for ii in range(N)]\n",
    "data = np.array(data).T\n",
    "cmap = plt.cm.coolwarm\n",
    "rcParams['axes.prop_cycle'] = cycler(color=cmap(np.linspace(0, 1, N)))\n",
    "\n",
    "\n",
    "from matplotlib.lines import Line2D\n",
    "custom_lines = [Line2D([0], [0], color=cmap(0.), lw=4),\n",
    "                Line2D([0], [0], color=cmap(.5), lw=4),\n",
    "                Line2D([0], [0], color=cmap(1.), lw=4)]\n",
    "\n",
    "fig, ax = plt.subplots(figsize=(10, 5))\n",
    "lines = ax.plot(data)\n",
    "ax.legend(custom_lines, ['Cold', 'Medium', 'Hot']);\n",
    "```\n",
    "\n",
    "## References\n",
    "\n",
    "\n",
    "There is no requirement for formal in-text citations or bibliographies. If you need to make references to other texts, you can add a [link](https://en.wikipedia.org/) like this. Alternatively, you can have a short reference subsection at the end of your section like this:\n",
    "\n",
    "- [This is a link to Wikipedia](https://en.wikipedia.org/)"
   ]
  }
 ],
 "metadata": {
  "jupytext": {
   "text_representation": {
    "extension": ".md",
    "format_name": "myst",
    "format_version": 0.13,
    "jupytext_version": "1.14.1"
   }
  },
  "kernelspec": {
   "display_name": "Python 3 (ipykernel)",
   "language": "python",
   "name": "python3"
  },
  "language_info": {
   "codemirror_mode": {
    "name": "ipython",
    "version": 3
   },
   "file_extension": ".py",
   "mimetype": "text/x-python",
   "name": "python",
   "nbconvert_exporter": "python",
   "pygments_lexer": "ipython3",
   "version": "3.8.13"
  },
  "source_map": [
   12
  ]
 },
 "nbformat": 4,
 "nbformat_minor": 5
}